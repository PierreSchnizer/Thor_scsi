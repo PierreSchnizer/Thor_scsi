import os

import thor_scsi.lib as tslib

from thor_scsi.factory import accelerator_from_config
from thor_scsi.utils.radiate import compute_radiation


t_dir = os.path.join(os.environ["HOME"], "Nextcloud", "thor_scsi")
t_file = os.path.join(t_dir, "b3_sf_40Grad_JB.lat")

acc = accelerator_from_config(t_file)
calc_config = tslib.ConfigType()

compute_radiation(acc, calc_config, 2.0e9, 1e-15)

